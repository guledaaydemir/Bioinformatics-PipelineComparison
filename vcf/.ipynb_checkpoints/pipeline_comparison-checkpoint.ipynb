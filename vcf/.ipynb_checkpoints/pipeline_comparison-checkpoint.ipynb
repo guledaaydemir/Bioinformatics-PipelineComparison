{
 "cells": [
  {
   "cell_type": "markdown",
   "id": "54e25276",
   "metadata": {},
   "source": [
    "# Bioinformatic - Pipeline Comparison for BLG 604E"
   ]
  },
  {
   "cell_type": "markdown",
   "id": "ac18c4e6",
   "metadata": {},
   "source": [
    "## OUTLINE"
   ]
  },
  {
   "cell_type": "markdown",
   "id": "6ce86abe",
   "metadata": {},
   "source": [
    "#### PART A) RESULTS FROM THE PIPELINES\n",
    "1- Reading SNP vcf filenames generated as a result of the pipeline.\n",
    "<br> 2- Creating a set for each dataframe with using \"CHROM\",\"POS\",\"REF\",\"ALT_1\" columns.\n",
    "\n",
    "#### PART B) RESULTS OF THE LL VALIDATED VCFS\n",
    "1- Reading ll validated vcfs.\n",
    "<br> 2- Creating a set for each dataframe with using \"CHROM\",\"POS\",\"REF\",\"ALT_1\" columns.\n",
    "\n",
    "#### PART C) SET OPERATIONS\n",
    "1- Creating a set operations funtions. \n",
    "<br>2- Creating a intersection array from each sets. \n",
    "<br>3- Show Intersection Results in heatmap\n",
    "\n",
    "#### PART D) COMPARISON WITH UNION VALIDATED VCF'S"
   ]
  },
  {
   "cell_type": "markdown",
   "id": "3c206e53",
   "metadata": {},
   "source": [
    "## IMPORT SECTION"
   ]
  },
  {
   "cell_type": "code",
   "execution_count": 106,
   "id": "21811dea",
   "metadata": {
    "scrolled": true
   },
   "outputs": [],
   "source": [
    "import os\n",
    "import allel\n",
    "import numpy as np # pip3 install matplotlib\n",
    "import matplotlib.pyplot as plt # pip3 install matplotlib\n",
    "\n",
    "import random\n",
    "import community # can be installed with: \"pip install python-louvain\"\n",
    "from numpy import linalg as LA\n",
    "from tqdm import tqdm\n",
    "import pandas as pd\n",
    "from scipy import stats\n",
    "from scipy.interpolate import interp1d\n",
    "import time\n",
    "import seaborn as sns\n",
    "import matplotlib.pyplot as plt\n",
    "import matplotlib.colors\n",
    "import math\n",
    "import scipy.io as sio\n",
    "from skimage import data, segmentation, color\n",
    "from skimage.future import graph\n",
    "from sklearn.preprocessing import MinMaxScaler"
   ]
  },
  {
   "cell_type": "markdown",
   "id": "a1b00ff7",
   "metadata": {},
   "source": [
    "### Common Funtions"
   ]
  },
  {
   "cell_type": "code",
   "execution_count": 135,
   "id": "6d771fca",
   "metadata": {},
   "outputs": [],
   "source": [
    "#Deleting indels from VCF\n",
    "def remove_indels(t):\n",
    "    t = t[t[\"REF\"].apply(len) == 1 ]\n",
    "    t = t[t[\"ALT_1\"].apply(len) == 1]\n",
    "    return t "
   ]
  },
  {
   "cell_type": "markdown",
   "id": "34edc503",
   "metadata": {},
   "source": [
    "## PART A) RESULTS FROM THE PIPELINES"
   ]
  },
  {
   "cell_type": "markdown",
   "id": "f1878aa7",
   "metadata": {},
   "source": [
    "### 1- Reading SNP vcf filenames generated as a result of the pipeline."
   ]
  },
  {
   "cell_type": "code",
   "execution_count": 108,
   "id": "27141192",
   "metadata": {
    "scrolled": true
   },
   "outputs": [],
   "source": [
    "snp_filenames = {}\n",
    "for root, directories, filenames in os.walk('vcf/snp'):\n",
    "    for fn in filenames:\n",
    "        if fn == '.DS_Store':\n",
    "            continue;\n",
    "        else:\n",
    "            snp_filenames[root[8:]] = os.path.join(root,fn)"
   ]
  },
  {
   "cell_type": "code",
   "execution_count": 109,
   "id": "21585388",
   "metadata": {
    "scrolled": false
   },
   "outputs": [
    {
     "data": {
      "text/plain": [
       "{'50_51/bwa/varscan': 'vcf/snp/50_51/bwa/varscan/snp_SRR7890851_bwa-SRR7890850_bwa_varscan.Somatic.vcf',\n",
       " '50_51/bwa/mutect': 'vcf/snp/50_51/bwa/mutect/snp_SRR7890851_bwa-SRR7890850_bwa_mutect.vcf',\n",
       " '50_51/bwa/octopus': 'vcf/snp/50_51/bwa/octopus/snp_SRR7890851_bwa-SRR7890850_bwa_octopus.vcf',\n",
       " '50_51/bowtie/varscan': 'vcf/snp/50_51/bowtie/varscan/snp_SRR7890851_bowtie-SRR7890850_bowtie_varscan.Somatic.vcf',\n",
       " '50_51/bowtie/mutect': 'vcf/snp/50_51/bowtie/mutect/snp_SRR7890851_bowtie-SRR7890850_bowtie_mutect.vcf',\n",
       " '50_51/bowtie/octopus': 'vcf/snp/50_51/bowtie/octopus/snp_SRR7890851_bowtie-SRR7890850_bowtie_octopus.vcf',\n",
       " '44_45/bwa/varscan': 'vcf/snp/44_45/bwa/varscan/snp_SRR7890851_bwa-SRR7890850_bwa_varscan.vcf',\n",
       " '44_45/bowtie/somaticSniper': 'vcf/snp/44_45/bowtie/somaticSniper/snp_SRR7890845_bowtie-SRR7890844_bowtie_somaticsniper.vcf',\n",
       " '44_45/bowtie/varscan': 'vcf/snp/44_45/bowtie/varscan/snp_SRR7890851_bowtie-SRR7890850_bowtie_varscan.vcf',\n",
       " '44_45/bowtie/strelka': 'vcf/snp/44_45/bowtie/strelka/snp_SRR7890845_bowtie-SRR7890844_bowtie_strelka.vcf',\n",
       " '44_45/bwa2/somaticSniper': 'vcf/snp/44_45/bwa2/somaticSniper/snp_SRR7890845_bwa2-SRR7890844_bwa2_somaticsniper.vcf',\n",
       " '44_45/bwa2/strelka': 'vcf/snp/44_45/bwa2/strelka/snp_SRR7890845_bwa2-SRR7890844_bwa2_strelka.vcf'}"
      ]
     },
     "execution_count": 109,
     "metadata": {},
     "output_type": "execute_result"
    }
   ],
   "source": [
    "snp_filenames"
   ]
  },
  {
   "cell_type": "markdown",
   "id": "a0daec4f",
   "metadata": {},
   "source": [
    "### 2- Creating a set for each dataframe with using \"CHROM\",\"POS\",\"REF\",\"ALT_1\" columns."
   ]
  },
  {
   "cell_type": "code",
   "execution_count": 136,
   "id": "f00b33b8",
   "metadata": {
    "scrolled": true
   },
   "outputs": [],
   "source": [
    "sets_dict = {}\n",
    "\n",
    "filtering_df = pd.DataFrame(columns=[\"Key\", \"Total Length\", \"After FilterPass\", \"After RemoveIndels\"])\n",
    "\n",
    "for key in snp_filenames:\n",
    "    \n",
    "    #Creating a dataframe for each vcf.\n",
    "    temp = allel.vcf_to_dataframe(snp_filenames[key])\n",
    "    \n",
    "    #Filtering the results\n",
    "    total_len = len(temp)\n",
    "    temp = temp[temp[\"FILTER_PASS\"]]\n",
    "    after_Filterpass_len = len(temp)\n",
    "    temp = remove_indels(temp)\n",
    "    without_indels_len = len(temp)\n",
    "    filtering_df.loc[len(filtering_df.index)] = [key , total_len, after_Filterpass_len,without_indels_len]\n",
    "    #temp = temp[temp[\"CHROM\"].apply(lambda x: \"_\" in x)]\n",
    "    \n",
    "    #Creating a dictionary for each set\n",
    "    if len(temp) != 0:\n",
    "        sets_dict[key]= set(temp[[\"CHROM\",\"POS\",\"REF\",\"ALT_1\"]].apply(lambda row: \"_\".join(map(str, row)), axis=1))"
   ]
  },
  {
   "cell_type": "code",
   "execution_count": 137,
   "id": "3433efde",
   "metadata": {
    "scrolled": true
   },
   "outputs": [
    {
     "data": {
      "image/png": "[encoded data removed]",
      "text/plain": [
       "<Figure size 432x288 with 1 Axes>"
      ]
     },
     "metadata": {
      "needs_background": "light"
     },
     "output_type": "display_data"
    }
   ],
   "source": [
    "#Example\n",
    "#len(sets_dict)\n",
    "#len(sets_dict['50_51/bowtie/octopus'])\n",
    "ax = filtering_df.plot('Key',kind='bar',title=\"The lenghts after 'FilterPass' and 'Removing Indels'\")\n",
    "for p in ax.patches:\n",
    "    if p.get_height() == 0:\n",
    "        ax.annotate(str(p.get_height()), (p.get_x() * 1.005, p.get_height() * 1.005))"
   ]
  },
  {
   "cell_type": "markdown",
   "id": "fc912c6f",
   "metadata": {},
   "source": [
    "After applying the filterpass and removing indel filters, the following data were eliminated:\n",
    "\n",
    "1. 50_51/bwa/mutect,\n",
    "2. 50_51/bowtie/mutect,\n",
    "\n",
    "3. 44_45/bowtie/somaticSniper,\n",
    "4. 44_45/bwa2/somaticSniper \n"
   ]
  },
  {
   "cell_type": "code",
   "execution_count": 146,
   "id": "08875d0c",
   "metadata": {},
   "outputs": [
    {
     "name": "stdout",
     "output_type": "stream",
     "text": [
      " The total file count: 12 \n",
      " After applying filters: 8\n"
     ]
    }
   ],
   "source": [
    "print(' The total file count:',len(filtering_df),'\\n', 'After applying filters:', len(sets_dict))"
   ]
  },
  {
   "cell_type": "markdown",
   "id": "cb83b7e2",
   "metadata": {},
   "source": [
    "## PART B) RESULTS OF THE LL VALIDATED VCFS"
   ]
  },
  {
   "cell_type": "markdown",
   "id": "d7b60943",
   "metadata": {},
   "source": [
    "### 1- Reading ll validated vcfs."
   ]
  },
  {
   "cell_type": "code",
   "execution_count": 147,
   "id": "4e969289",
   "metadata": {
    "scrolled": true
   },
   "outputs": [],
   "source": [
    "ll_filenames = {}\n",
    "for root, directories, filenames in os.walk('vcf/ll_ea_validated_vcfs/ll_val_data'):\n",
    "    for fn in filenames:\n",
    "        if fn == '.DS_Store':\n",
    "            continue;\n",
    "        else:\n",
    "            ll_filenames[root[37:]] = os.path.join(root,fn)"
   ]
  },
  {
   "cell_type": "code",
   "execution_count": 148,
   "id": "62511112",
   "metadata": {
    "scrolled": true
   },
   "outputs": [
    {
     "data": {
      "text/plain": [
       "{'novo/somaticSniper': 'vcf/ll_ea_validated_vcfs/ll_val_data/novo/somaticSniper/WES_LL_1.novo.somaticSniper.vcf',\n",
       " 'novo/strelka': 'vcf/ll_ea_validated_vcfs/ll_val_data/novo/strelka/WES_LL_1.novo.strelka.vcf',\n",
       " 'novo/mutect': 'vcf/ll_ea_validated_vcfs/ll_val_data/novo/mutect/WES_LL_1.novo.muTect2.vcf',\n",
       " 'bwa/somaticSniper': 'vcf/ll_ea_validated_vcfs/ll_val_data/bwa/somaticSniper/WES_LL_1.bwa.somaticSniper.vcf',\n",
       " 'bwa/strelka': 'vcf/ll_ea_validated_vcfs/ll_val_data/bwa/strelka/WES_LL_1.bwa.strelka.vcf',\n",
       " 'bwa/mutect': 'vcf/ll_ea_validated_vcfs/ll_val_data/bwa/mutect/WES_LL_1.bwa.muTect2.vcf',\n",
       " 'bowtie/somaticSniper': 'vcf/ll_ea_validated_vcfs/ll_val_data/bowtie/somaticSniper/WES_LL_1.bowtie.somaticSniper.vcf',\n",
       " 'bowtie/Strelka': 'vcf/ll_ea_validated_vcfs/ll_val_data/bowtie/Strelka/WES_LL_1.bowtie.strelka.vcf',\n",
       " 'bowtie/mutect': 'vcf/ll_ea_validated_vcfs/ll_val_data/bowtie/mutect/WES_LL_1.bowtie.muTect2.vcf'}"
      ]
     },
     "execution_count": 148,
     "metadata": {},
     "output_type": "execute_result"
    }
   ],
   "source": [
    "ll_filenames"
   ]
  },
  {
   "cell_type": "markdown",
   "id": "e5291c20",
   "metadata": {},
   "source": [
    "### 2- Creating a set for each dataframe with using \"CHROM\",\"POS\",\"REF\",\"ALT_1\" columns."
   ]
  },
  {
   "cell_type": "code",
   "execution_count": 151,
   "id": "eef6c955",
   "metadata": {
    "scrolled": true
   },
   "outputs": [],
   "source": [
    "ll_sets_dict = {}\n",
    "\n",
    "ll_filtering_df = pd.DataFrame(columns=[\"Key\", \"Total Length\", \"After FilterPass\", \"After RemoveIndels\"])\n",
    "\n",
    "for key in ll_filenames:\n",
    "    #Creating a dataframe for each vcf.\n",
    "    temp = allel.vcf_to_dataframe(ll_filenames[key])\n",
    "    \n",
    "    #Filtering\n",
    "    total_length = len(temp)\n",
    "    temp = temp[temp[\"FILTER_PASS\"]]\n",
    "    after_filterpass = len(temp)\n",
    "    temp = remove_indels(temp)\n",
    "    after_remove_indels = len(temp)\n",
    "    ll_filtering_df.loc[len(ll_filtering_df.index)] = [key , total_length, after_filterpass,after_remove_indels]\n",
    "\n",
    "    #Creating a set for each dataframe\n",
    "    if len(temp) != 0 :\n",
    "        ll_sets_dict[key]= set(temp[[\"CHROM\",\"POS\",\"REF\",\"ALT_1\"]].apply(lambda row: \"_\".join(map(str, row)), axis=1))"
   ]
  },
  {
   "cell_type": "code",
   "execution_count": 126,
   "id": "89d500cb",
   "metadata": {
    "scrolled": true
   },
   "outputs": [
    {
     "data": {
      "image/png": "[encoded data removed]",
      "text/plain": [
       "<Figure size 432x288 with 1 Axes>"
      ]
     },
     "metadata": {
      "needs_background": "light"
     },
     "output_type": "display_data"
    }
   ],
   "source": [
    "ax = ll_filtering_df.plot('Key',kind='bar',title=\"The ll lenghts after 'FilterPass' and 'Removing Indels'\")\n",
    "for p in ax.patches:\n",
    "    if p.get_height() == 0:\n",
    "        ax.annotate(str(p.get_height()), (p.get_x() * 1.005, p.get_height() * 1.005))"
   ]
  },
  {
   "cell_type": "markdown",
   "id": "f06015bf",
   "metadata": {},
   "source": [
    "After applying the filterpass and removing indel filters, the following data were eliminated:\n",
    "\n",
    "1. novo/somaticSniper,\n",
    "2. bwa/somaricSniper,\n",
    "3. bowtie/somaticSniper"
   ]
  },
  {
   "cell_type": "code",
   "execution_count": 153,
   "id": "9b3322d4",
   "metadata": {},
   "outputs": [
    {
     "name": "stdout",
     "output_type": "stream",
     "text": [
      " The total file count: 9 \n",
      " After applying filters: 6\n"
     ]
    }
   ],
   "source": [
    "print(' The total file count:',len(ll_filtering_df),'\\n', 'After applying filters:', len(ll_sets_dict))"
   ]
  },
  {
   "cell_type": "markdown",
   "id": "1c9b7d0f",
   "metadata": {},
   "source": [
    "## PART C) SET OPERATIONS"
   ]
  },
  {
   "cell_type": "markdown",
   "id": "e4ca8698",
   "metadata": {},
   "source": [
    "\n",
    "### 1- Creating a set operations funtions."
   ]
  },
  {
   "cell_type": "code",
   "execution_count": 156,
   "id": "1e5419e2",
   "metadata": {
    "scrolled": true
   },
   "outputs": [],
   "source": [
    "#The intersection of two sets is the set of all the common elements of both the sets. \n",
    "def intersec(s1,s2):\n",
    "    return len(s1.intersection(s2))\n",
    "\n",
    "#The union of two sets is the set of all the elements of both the sets without duplicates.\n",
    "def uni(s1,s2):\n",
    "    return len(s1.union(s2))\n",
    "\n",
    "#The difference between two sets is the set of all the elements in first set that are not present in the second set. \n",
    "def dif(s1,s2):\n",
    "    return len(s1.difference(s2))\n",
    "\n",
    "#Jaccard Similarity function for two sets\n",
    "def js_set(s1, s2):\n",
    "    intersection = len(list(set(s1).intersection(s2)))\n",
    "    union = uni(s1,s2)\n",
    "    return np.float64(round((float(intersection) / union) * 100) / 100);"
   ]
  },
  {
   "cell_type": "markdown",
   "id": "3592a88e",
   "metadata": {},
   "source": [
    "### 2- Creating a intersection array from each sets. "
   ]
  },
  {
   "cell_type": "code",
   "execution_count": 157,
   "id": "5ca81a9b",
   "metadata": {
    "scrolled": false
   },
   "outputs": [
    {
     "data": {
      "text/html": [
       "<div>\n",
       "<style scoped>\n",
       "    .dataframe tbody tr th:only-of-type {\n",
       "        vertical-align: middle;\n",
       "    }\n",
       "\n",
       "    .dataframe tbody tr th {\n",
       "        vertical-align: top;\n",
       "    }\n",
       "\n",
       "    .dataframe thead th {\n",
       "        text-align: right;\n",
       "    }\n",
       "</style>\n",
       "<table border=\"1\" class=\"dataframe\">\n",
       "  <thead>\n",
       "    <tr style=\"text-align: right;\">\n",
       "      <th></th>\n",
       "      <th>LL_VCF</th>\n",
       "      <th>Result_VCF</th>\n",
       "      <th>Results</th>\n",
       "    </tr>\n",
       "  </thead>\n",
       "  <tbody>\n",
       "    <tr>\n",
       "      <th>0</th>\n",
       "      <td>novo/strelka</td>\n",
       "      <td>50_51/bwa/varscan</td>\n",
       "      <td>0.33</td>\n",
       "    </tr>\n",
       "    <tr>\n",
       "      <th>1</th>\n",
       "      <td>novo/strelka</td>\n",
       "      <td>50_51/bwa/octopus</td>\n",
       "      <td>0.02</td>\n",
       "    </tr>\n",
       "    <tr>\n",
       "      <th>2</th>\n",
       "      <td>novo/strelka</td>\n",
       "      <td>50_51/bowtie/varscan</td>\n",
       "      <td>0.24</td>\n",
       "    </tr>\n",
       "    <tr>\n",
       "      <th>3</th>\n",
       "      <td>novo/strelka</td>\n",
       "      <td>50_51/bowtie/octopus</td>\n",
       "      <td>0.02</td>\n",
       "    </tr>\n",
       "    <tr>\n",
       "      <th>4</th>\n",
       "      <td>novo/strelka</td>\n",
       "      <td>44_45/bwa/varscan</td>\n",
       "      <td>0.02</td>\n",
       "    </tr>\n",
       "    <tr>\n",
       "      <th>5</th>\n",
       "      <td>novo/strelka</td>\n",
       "      <td>44_45/bowtie/varscan</td>\n",
       "      <td>0.02</td>\n",
       "    </tr>\n",
       "    <tr>\n",
       "      <th>6</th>\n",
       "      <td>novo/strelka</td>\n",
       "      <td>44_45/bowtie/strelka</td>\n",
       "      <td>0.28</td>\n",
       "    </tr>\n",
       "    <tr>\n",
       "      <th>7</th>\n",
       "      <td>novo/strelka</td>\n",
       "      <td>44_45/bwa2/strelka</td>\n",
       "      <td>0.28</td>\n",
       "    </tr>\n",
       "    <tr>\n",
       "      <th>8</th>\n",
       "      <td>novo/mutect</td>\n",
       "      <td>50_51/bwa/varscan</td>\n",
       "      <td>0.34</td>\n",
       "    </tr>\n",
       "    <tr>\n",
       "      <th>9</th>\n",
       "      <td>novo/mutect</td>\n",
       "      <td>50_51/bwa/octopus</td>\n",
       "      <td>0.01</td>\n",
       "    </tr>\n",
       "    <tr>\n",
       "      <th>10</th>\n",
       "      <td>novo/mutect</td>\n",
       "      <td>50_51/bowtie/varscan</td>\n",
       "      <td>0.23</td>\n",
       "    </tr>\n",
       "    <tr>\n",
       "      <th>11</th>\n",
       "      <td>novo/mutect</td>\n",
       "      <td>50_51/bowtie/octopus</td>\n",
       "      <td>0.01</td>\n",
       "    </tr>\n",
       "    <tr>\n",
       "      <th>12</th>\n",
       "      <td>novo/mutect</td>\n",
       "      <td>44_45/bwa/varscan</td>\n",
       "      <td>0.02</td>\n",
       "    </tr>\n",
       "    <tr>\n",
       "      <th>13</th>\n",
       "      <td>novo/mutect</td>\n",
       "      <td>44_45/bowtie/varscan</td>\n",
       "      <td>0.01</td>\n",
       "    </tr>\n",
       "    <tr>\n",
       "      <th>14</th>\n",
       "      <td>novo/mutect</td>\n",
       "      <td>44_45/bowtie/strelka</td>\n",
       "      <td>0.26</td>\n",
       "    </tr>\n",
       "    <tr>\n",
       "      <th>15</th>\n",
       "      <td>novo/mutect</td>\n",
       "      <td>44_45/bwa2/strelka</td>\n",
       "      <td>0.26</td>\n",
       "    </tr>\n",
       "    <tr>\n",
       "      <th>16</th>\n",
       "      <td>bwa/strelka</td>\n",
       "      <td>50_51/bwa/varscan</td>\n",
       "      <td>0.32</td>\n",
       "    </tr>\n",
       "    <tr>\n",
       "      <th>17</th>\n",
       "      <td>bwa/strelka</td>\n",
       "      <td>50_51/bwa/octopus</td>\n",
       "      <td>0.02</td>\n",
       "    </tr>\n",
       "    <tr>\n",
       "      <th>18</th>\n",
       "      <td>bwa/strelka</td>\n",
       "      <td>50_51/bowtie/varscan</td>\n",
       "      <td>0.24</td>\n",
       "    </tr>\n",
       "    <tr>\n",
       "      <th>19</th>\n",
       "      <td>bwa/strelka</td>\n",
       "      <td>50_51/bowtie/octopus</td>\n",
       "      <td>0.02</td>\n",
       "    </tr>\n",
       "    <tr>\n",
       "      <th>20</th>\n",
       "      <td>bwa/strelka</td>\n",
       "      <td>44_45/bwa/varscan</td>\n",
       "      <td>0.02</td>\n",
       "    </tr>\n",
       "    <tr>\n",
       "      <th>21</th>\n",
       "      <td>bwa/strelka</td>\n",
       "      <td>44_45/bowtie/varscan</td>\n",
       "      <td>0.02</td>\n",
       "    </tr>\n",
       "    <tr>\n",
       "      <th>22</th>\n",
       "      <td>bwa/strelka</td>\n",
       "      <td>44_45/bowtie/strelka</td>\n",
       "      <td>0.28</td>\n",
       "    </tr>\n",
       "    <tr>\n",
       "      <th>23</th>\n",
       "      <td>bwa/strelka</td>\n",
       "      <td>44_45/bwa2/strelka</td>\n",
       "      <td>0.28</td>\n",
       "    </tr>\n",
       "    <tr>\n",
       "      <th>24</th>\n",
       "      <td>bwa/mutect</td>\n",
       "      <td>50_51/bwa/varscan</td>\n",
       "      <td>0.34</td>\n",
       "    </tr>\n",
       "    <tr>\n",
       "      <th>25</th>\n",
       "      <td>bwa/mutect</td>\n",
       "      <td>50_51/bwa/octopus</td>\n",
       "      <td>0.01</td>\n",
       "    </tr>\n",
       "    <tr>\n",
       "      <th>26</th>\n",
       "      <td>bwa/mutect</td>\n",
       "      <td>50_51/bowtie/varscan</td>\n",
       "      <td>0.23</td>\n",
       "    </tr>\n",
       "    <tr>\n",
       "      <th>27</th>\n",
       "      <td>bwa/mutect</td>\n",
       "      <td>50_51/bowtie/octopus</td>\n",
       "      <td>0.01</td>\n",
       "    </tr>\n",
       "    <tr>\n",
       "      <th>28</th>\n",
       "      <td>bwa/mutect</td>\n",
       "      <td>44_45/bwa/varscan</td>\n",
       "      <td>0.02</td>\n",
       "    </tr>\n",
       "    <tr>\n",
       "      <th>29</th>\n",
       "      <td>bwa/mutect</td>\n",
       "      <td>44_45/bowtie/varscan</td>\n",
       "      <td>0.01</td>\n",
       "    </tr>\n",
       "    <tr>\n",
       "      <th>30</th>\n",
       "      <td>bwa/mutect</td>\n",
       "      <td>44_45/bowtie/strelka</td>\n",
       "      <td>0.26</td>\n",
       "    </tr>\n",
       "    <tr>\n",
       "      <th>31</th>\n",
       "      <td>bwa/mutect</td>\n",
       "      <td>44_45/bwa2/strelka</td>\n",
       "      <td>0.26</td>\n",
       "    </tr>\n",
       "    <tr>\n",
       "      <th>32</th>\n",
       "      <td>bowtie/Strelka</td>\n",
       "      <td>50_51/bwa/varscan</td>\n",
       "      <td>0.37</td>\n",
       "    </tr>\n",
       "    <tr>\n",
       "      <th>33</th>\n",
       "      <td>bowtie/Strelka</td>\n",
       "      <td>50_51/bwa/octopus</td>\n",
       "      <td>0.01</td>\n",
       "    </tr>\n",
       "    <tr>\n",
       "      <th>34</th>\n",
       "      <td>bowtie/Strelka</td>\n",
       "      <td>50_51/bowtie/varscan</td>\n",
       "      <td>0.26</td>\n",
       "    </tr>\n",
       "    <tr>\n",
       "      <th>35</th>\n",
       "      <td>bowtie/Strelka</td>\n",
       "      <td>50_51/bowtie/octopus</td>\n",
       "      <td>0.01</td>\n",
       "    </tr>\n",
       "    <tr>\n",
       "      <th>36</th>\n",
       "      <td>bowtie/Strelka</td>\n",
       "      <td>44_45/bwa/varscan</td>\n",
       "      <td>0.02</td>\n",
       "    </tr>\n",
       "    <tr>\n",
       "      <th>37</th>\n",
       "      <td>bowtie/Strelka</td>\n",
       "      <td>44_45/bowtie/varscan</td>\n",
       "      <td>0.02</td>\n",
       "    </tr>\n",
       "    <tr>\n",
       "      <th>38</th>\n",
       "      <td>bowtie/Strelka</td>\n",
       "      <td>44_45/bowtie/strelka</td>\n",
       "      <td>0.29</td>\n",
       "    </tr>\n",
       "    <tr>\n",
       "      <th>39</th>\n",
       "      <td>bowtie/Strelka</td>\n",
       "      <td>44_45/bwa2/strelka</td>\n",
       "      <td>0.29</td>\n",
       "    </tr>\n",
       "    <tr>\n",
       "      <th>40</th>\n",
       "      <td>bowtie/mutect</td>\n",
       "      <td>50_51/bwa/varscan</td>\n",
       "      <td>0.33</td>\n",
       "    </tr>\n",
       "    <tr>\n",
       "      <th>41</th>\n",
       "      <td>bowtie/mutect</td>\n",
       "      <td>50_51/bwa/octopus</td>\n",
       "      <td>0.01</td>\n",
       "    </tr>\n",
       "    <tr>\n",
       "      <th>42</th>\n",
       "      <td>bowtie/mutect</td>\n",
       "      <td>50_51/bowtie/varscan</td>\n",
       "      <td>0.22</td>\n",
       "    </tr>\n",
       "    <tr>\n",
       "      <th>43</th>\n",
       "      <td>bowtie/mutect</td>\n",
       "      <td>50_51/bowtie/octopus</td>\n",
       "      <td>0.01</td>\n",
       "    </tr>\n",
       "    <tr>\n",
       "      <th>44</th>\n",
       "      <td>bowtie/mutect</td>\n",
       "      <td>44_45/bwa/varscan</td>\n",
       "      <td>0.02</td>\n",
       "    </tr>\n",
       "    <tr>\n",
       "      <th>45</th>\n",
       "      <td>bowtie/mutect</td>\n",
       "      <td>44_45/bowtie/varscan</td>\n",
       "      <td>0.01</td>\n",
       "    </tr>\n",
       "    <tr>\n",
       "      <th>46</th>\n",
       "      <td>bowtie/mutect</td>\n",
       "      <td>44_45/bowtie/strelka</td>\n",
       "      <td>0.25</td>\n",
       "    </tr>\n",
       "    <tr>\n",
       "      <th>47</th>\n",
       "      <td>bowtie/mutect</td>\n",
       "      <td>44_45/bwa2/strelka</td>\n",
       "      <td>0.25</td>\n",
       "    </tr>\n",
       "  </tbody>\n",
       "</table>\n",
       "</div>"
      ],
      "text/plain": [
       "            LL_VCF            Result_VCF Results\n",
       "0     novo/strelka     50_51/bwa/varscan    0.33\n",
       "1     novo/strelka     50_51/bwa/octopus    0.02\n",
       "2     novo/strelka  50_51/bowtie/varscan    0.24\n",
       "3     novo/strelka  50_51/bowtie/octopus    0.02\n",
       "4     novo/strelka     44_45/bwa/varscan    0.02\n",
       "5     novo/strelka  44_45/bowtie/varscan    0.02\n",
       "6     novo/strelka  44_45/bowtie/strelka    0.28\n",
       "7     novo/strelka    44_45/bwa2/strelka    0.28\n",
       "8      novo/mutect     50_51/bwa/varscan    0.34\n",
       "9      novo/mutect     50_51/bwa/octopus    0.01\n",
       "10     novo/mutect  50_51/bowtie/varscan    0.23\n",
       "11     novo/mutect  50_51/bowtie/octopus    0.01\n",
       "12     novo/mutect     44_45/bwa/varscan    0.02\n",
       "13     novo/mutect  44_45/bowtie/varscan    0.01\n",
       "14     novo/mutect  44_45/bowtie/strelka    0.26\n",
       "15     novo/mutect    44_45/bwa2/strelka    0.26\n",
       "16     bwa/strelka     50_51/bwa/varscan    0.32\n",
       "17     bwa/strelka     50_51/bwa/octopus    0.02\n",
       "18     bwa/strelka  50_51/bowtie/varscan    0.24\n",
       "19     bwa/strelka  50_51/bowtie/octopus    0.02\n",
       "20     bwa/strelka     44_45/bwa/varscan    0.02\n",
       "21     bwa/strelka  44_45/bowtie/varscan    0.02\n",
       "22     bwa/strelka  44_45/bowtie/strelka    0.28\n",
       "23     bwa/strelka    44_45/bwa2/strelka    0.28\n",
       "24      bwa/mutect     50_51/bwa/varscan    0.34\n",
       "25      bwa/mutect     50_51/bwa/octopus    0.01\n",
       "26      bwa/mutect  50_51/bowtie/varscan    0.23\n",
       "27      bwa/mutect  50_51/bowtie/octopus    0.01\n",
       "28      bwa/mutect     44_45/bwa/varscan    0.02\n",
       "29      bwa/mutect  44_45/bowtie/varscan    0.01\n",
       "30      bwa/mutect  44_45/bowtie/strelka    0.26\n",
       "31      bwa/mutect    44_45/bwa2/strelka    0.26\n",
       "32  bowtie/Strelka     50_51/bwa/varscan    0.37\n",
       "33  bowtie/Strelka     50_51/bwa/octopus    0.01\n",
       "34  bowtie/Strelka  50_51/bowtie/varscan    0.26\n",
       "35  bowtie/Strelka  50_51/bowtie/octopus    0.01\n",
       "36  bowtie/Strelka     44_45/bwa/varscan    0.02\n",
       "37  bowtie/Strelka  44_45/bowtie/varscan    0.02\n",
       "38  bowtie/Strelka  44_45/bowtie/strelka    0.29\n",
       "39  bowtie/Strelka    44_45/bwa2/strelka    0.29\n",
       "40   bowtie/mutect     50_51/bwa/varscan    0.33\n",
       "41   bowtie/mutect     50_51/bwa/octopus    0.01\n",
       "42   bowtie/mutect  50_51/bowtie/varscan    0.22\n",
       "43   bowtie/mutect  50_51/bowtie/octopus    0.01\n",
       "44   bowtie/mutect     44_45/bwa/varscan    0.02\n",
       "45   bowtie/mutect  44_45/bowtie/varscan    0.01\n",
       "46   bowtie/mutect  44_45/bowtie/strelka    0.25\n",
       "47   bowtie/mutect    44_45/bwa2/strelka    0.25"
      ]
     },
     "execution_count": 157,
     "metadata": {},
     "output_type": "execute_result"
    }
   ],
   "source": [
    "#Initializing a dataframe\n",
    "df = pd.DataFrame(columns=[\"LL_VCF\", \"Result_VCF\", \"Results\"])\n",
    "\n",
    "#Initializing a count for the rows\n",
    "count = 0\n",
    "\n",
    "#Computing each intersection of ll and the pipeline vcfs by looking at their key values. \n",
    "for key1 in ll_sets_dict: \n",
    "    for key2 in sets_dict:\n",
    "        df[count] = [key1, key2, js_set(ll_sets_dict[key1],sets_dict[key2])]\n",
    "        count += 1\n",
    "    \n",
    "#Taking transpose of the df and, getting rid of the first three rows then renaming axis again.\n",
    "#Consider chaging this part.\n",
    "df_t = df.transpose().iloc[3: , :].set_axis(['LL_VCF', 'Result_VCF', 'Results'], axis=1, inplace=False)\n",
    "\n",
    "#Normalizing the results values with MinMaxScaler [0,1]\n",
    "#df_t['Results'] = MinMaxScaler().fit_transform(np.array(df_t['Results']).reshape(-1,1))\n",
    "\n",
    "#np.float64(df['Results'])\n",
    "df_t"
   ]
  },
  {
   "cell_type": "markdown",
   "id": "a5e4abb3",
   "metadata": {},
   "source": [
    "### 3- Show Intersection Results in heatmap"
   ]
  },
  {
   "cell_type": "code",
   "execution_count": 158,
   "id": "3ef14da9",
   "metadata": {
    "scrolled": true
   },
   "outputs": [
    {
     "data": {
      "image/png": "[encoded data removed]",
      "text/plain": [
       "<Figure size 432x288 with 2 Axes>"
      ]
     },
     "metadata": {
      "needs_background": "light"
     },
     "output_type": "display_data"
    }
   ],
   "source": [
    "df_h = df_t.pivot(\"Result_VCF\", \"LL_VCF\", \"Results\").fillna(0).apply(pd.to_numeric)\n",
    "ax = sns.heatmap(df_h, annot=True,cmap=\"YlGnBu\")"
   ]
  },
  {
   "cell_type": "markdown",
   "id": "296e617d",
   "metadata": {},
   "source": [
    "### PART D) COMPARISON WITH UNION VALIDATED VCF'S"
   ]
  },
  {
   "cell_type": "markdown",
   "id": "2199ba51",
   "metadata": {},
   "source": [
    "#### 1- Create a union of all ll validated vfc sets"
   ]
  },
  {
   "cell_type": "code",
   "execution_count": 159,
   "id": "6fedf593",
   "metadata": {
    "scrolled": false
   },
   "outputs": [
    {
     "data": {
      "text/plain": [
       "4497"
      ]
     },
     "execution_count": 159,
     "metadata": {},
     "output_type": "execute_result"
    }
   ],
   "source": [
    "#Creating union list from all ll validated vcf files\n",
    "union_ll_vcf = set().union(*ll_sets_dict.values())\n",
    "\n",
    "len(union_ll_vcf)\n",
    "#union_ll_vcf"
   ]
  },
  {
   "cell_type": "code",
   "execution_count": 160,
   "id": "498982f5",
   "metadata": {
    "scrolled": true
   },
   "outputs": [
    {
     "data": {
      "text/html": [
       "<div>\n",
       "<style scoped>\n",
       "    .dataframe tbody tr th:only-of-type {\n",
       "        vertical-align: middle;\n",
       "    }\n",
       "\n",
       "    .dataframe tbody tr th {\n",
       "        vertical-align: top;\n",
       "    }\n",
       "\n",
       "    .dataframe thead th {\n",
       "        text-align: right;\n",
       "    }\n",
       "</style>\n",
       "<table border=\"1\" class=\"dataframe\">\n",
       "  <thead>\n",
       "    <tr style=\"text-align: right;\">\n",
       "      <th></th>\n",
       "      <th>LL_VCF</th>\n",
       "      <th>Result_VCF</th>\n",
       "      <th>Results</th>\n",
       "      <th>length</th>\n",
       "    </tr>\n",
       "  </thead>\n",
       "  <tbody>\n",
       "    <tr>\n",
       "      <th>0</th>\n",
       "      <td>Union</td>\n",
       "      <td>50_51/bwa/varscan</td>\n",
       "      <td>0.31</td>\n",
       "      <td>3792</td>\n",
       "    </tr>\n",
       "    <tr>\n",
       "      <th>1</th>\n",
       "      <td>Union</td>\n",
       "      <td>50_51/bwa/octopus</td>\n",
       "      <td>0.02</td>\n",
       "      <td>101119</td>\n",
       "    </tr>\n",
       "    <tr>\n",
       "      <th>2</th>\n",
       "      <td>Union</td>\n",
       "      <td>50_51/bowtie/varscan</td>\n",
       "      <td>0.24</td>\n",
       "      <td>5862</td>\n",
       "    </tr>\n",
       "    <tr>\n",
       "      <th>3</th>\n",
       "      <td>Union</td>\n",
       "      <td>50_51/bowtie/octopus</td>\n",
       "      <td>0.02</td>\n",
       "      <td>93119</td>\n",
       "    </tr>\n",
       "    <tr>\n",
       "      <th>4</th>\n",
       "      <td>Union</td>\n",
       "      <td>44_45/bwa/varscan</td>\n",
       "      <td>0.02</td>\n",
       "      <td>87726</td>\n",
       "    </tr>\n",
       "    <tr>\n",
       "      <th>5</th>\n",
       "      <td>Union</td>\n",
       "      <td>44_45/bowtie/varscan</td>\n",
       "      <td>0.02</td>\n",
       "      <td>100459</td>\n",
       "    </tr>\n",
       "    <tr>\n",
       "      <th>6</th>\n",
       "      <td>Union</td>\n",
       "      <td>44_45/bowtie/strelka</td>\n",
       "      <td>0.27</td>\n",
       "      <td>5467</td>\n",
       "    </tr>\n",
       "    <tr>\n",
       "      <th>7</th>\n",
       "      <td>Union</td>\n",
       "      <td>44_45/bwa2/strelka</td>\n",
       "      <td>0.27</td>\n",
       "      <td>5467</td>\n",
       "    </tr>\n",
       "  </tbody>\n",
       "</table>\n",
       "</div>"
      ],
      "text/plain": [
       "  LL_VCF            Result_VCF Results  length\n",
       "0  Union     50_51/bwa/varscan    0.31    3792\n",
       "1  Union     50_51/bwa/octopus    0.02  101119\n",
       "2  Union  50_51/bowtie/varscan    0.24    5862\n",
       "3  Union  50_51/bowtie/octopus    0.02   93119\n",
       "4  Union     44_45/bwa/varscan    0.02   87726\n",
       "5  Union  44_45/bowtie/varscan    0.02  100459\n",
       "6  Union  44_45/bowtie/strelka    0.27    5467\n",
       "7  Union    44_45/bwa2/strelka    0.27    5467"
      ]
     },
     "execution_count": 160,
     "metadata": {},
     "output_type": "execute_result"
    }
   ],
   "source": [
    "#Initializing a dataframe\n",
    "df_union = pd.DataFrame(columns=[\"LL_VCF\", \"Result_VCF\", \"Results\", 'length'])\n",
    "\n",
    "#Initializing a count for the rows\n",
    "count = 0\n",
    "\n",
    "#Computing each intersection of ll and the pipeline vcfs by looking at their key values. \n",
    "for key1 in sets_dict:\n",
    "    df_union[count] = ['Union', key1, js_set(union_ll_vcf,sets_dict[key1]),len(sets_dict[key1]) ]\n",
    "    count += 1\n",
    "\n",
    "#Taking transpose of the df and, getting rid of the first three rows then renaming axis again.\n",
    "df_union_t = df_union.transpose().iloc[4: , :].set_axis(['LL_VCF', 'Result_VCF', 'Results', 'length'], axis=1, inplace=False)\n",
    "\n",
    "#Normalization\n",
    "#df_union_t['Results'] = MinMaxScaler().fit_transform(np.array(df_union_t['Results']).reshape(-1,1))\n",
    "\n",
    "df_union_t"
   ]
  },
  {
   "cell_type": "code",
   "execution_count": 161,
   "id": "9a3fb4ba",
   "metadata": {
    "scrolled": true
   },
   "outputs": [
    {
     "data": {
      "image/png": "[encoded data removed]",
      "text/plain": [
       "<Figure size 432x288 with 2 Axes>"
      ]
     },
     "metadata": {
      "needs_background": "light"
     },
     "output_type": "display_data"
    }
   ],
   "source": [
    "df_union_h = df_union_t.pivot(\"Result_VCF\", \"LL_VCF\", \"Results\").fillna(0).apply(pd.to_numeric)\n",
    "ax = sns.heatmap(df_union_h, annot=True,cmap=\"YlGnBu\")"
   ]
  },
  {
   "cell_type": "code",
   "execution_count": null,
   "id": "5c98beb9",
   "metadata": {
    "scrolled": true
   },
   "outputs": [],
   "source": []
  },
  {
   "cell_type": "code",
   "execution_count": null,
   "id": "0a4fc7e7",
   "metadata": {
    "scrolled": true
   },
   "outputs": [],
   "source": []
  },
  {
   "cell_type": "code",
   "execution_count": null,
   "id": "30f50181",
   "metadata": {
    "scrolled": true
   },
   "outputs": [],
   "source": []
  },
  {
   "cell_type": "code",
   "execution_count": null,
   "id": "4cdbf093",
   "metadata": {
    "scrolled": true
   },
   "outputs": [],
   "source": []
  },
  {
   "cell_type": "code",
   "execution_count": null,
   "id": "da92fc3f",
   "metadata": {
    "collapsed": true,
    "scrolled": true
   },
   "outputs": [],
   "source": []
  },
  {
   "cell_type": "code",
   "execution_count": null,
   "id": "265581ed",
   "metadata": {
    "collapsed": true,
    "scrolled": true
   },
   "outputs": [],
   "source": []
  },
  {
   "cell_type": "markdown",
   "id": "1117eebb",
   "metadata": {},
   "source": [
    "Gül Eda Aydemir"
   ]
  },
  {
   "cell_type": "code",
   "execution_count": null,
   "id": "63762d66",
   "metadata": {},
   "outputs": [],
   "source": []
  }
 ],
 "metadata": {
  "kernelspec": {
   "display_name": "Python 3 (ipykernel)",
   "language": "python",
   "name": "python3"
  },
  "language_info": {
   "codemirror_mode": {
    "name": "ipython",
    "version": 3
   },
   "file_extension": ".py",
   "mimetype": "text/x-python",
   "name": "python",
   "nbconvert_exporter": "python",
   "pygments_lexer": "ipython3",
   "version": "3.9.7"
  }
 },
 "nbformat": 4,
 "nbformat_minor": 5
}

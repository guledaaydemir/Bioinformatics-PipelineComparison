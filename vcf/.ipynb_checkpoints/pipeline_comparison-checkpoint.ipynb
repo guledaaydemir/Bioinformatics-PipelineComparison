{
 "cells": [
  {
   "cell_type": "markdown",
   "id": "54e25276",
   "metadata": {},
   "source": [
    "# Bioinformatic - Pipeline Comparison for BLG 604E"
   ]
  },
  {
   "cell_type": "markdown",
   "id": "ac18c4e6",
   "metadata": {},
   "source": [
    "## OUTLINE"
   ]
  },
  {
   "cell_type": "markdown",
   "id": "6ce86abe",
   "metadata": {},
   "source": [
    "#### PART A) RESULTS FROM THE PIPELINES\n",
    "1- Reading SNP vcf filenames generated as a result of the pipeline.\n",
    "<br> 2- Creating a set for each dataframe with using \"CHROM\",\"POS\",\"REF\",\"ALT_1\" columns.\n",
    "\n",
    "#### PART B) RESULTS OF THE LL VALIDATED VCFS\n",
    "1- Reading ll validated vcfs.\n",
    "<br> 2- Creating a set for each dataframe with using \"CHROM\",\"POS\",\"REF\",\"ALT_1\" columns.\n",
    "\n",
    "#### PART C) SET OPERATIONS\n",
    "1- Creating a set operations funtions. \n",
    "<br>2- Creating a intersection array from each sets. \n",
    "<br>3- Show Intersection Results in heatmap\n",
    "\n",
    "#### PART D) COMPARISON WITH UNION VALIDATED VCF'S"
   ]
  },
  {
   "cell_type": "markdown",
   "id": "3c206e53",
   "metadata": {},
   "source": [
    "## IMPORT SECTION"
   ]
  },
  {
   "cell_type": "code",
   "execution_count": 49,
   "id": "21811dea",
   "metadata": {},
   "outputs": [],
   "source": [
    "import os\n",
    "import allel\n",
    "import numpy as np # pip3 install matplotlib\n",
    "import matplotlib.pyplot as plt # pip3 install matplotlib\n",
    "\n",
    "import random\n",
    "import community # can be installed with: \"pip install python-louvain\"\n",
    "from numpy import linalg as LA\n",
    "from tqdm import tqdm\n",
    "import pandas as pd\n",
    "from scipy import stats\n",
    "from scipy.interpolate import interp1d\n",
    "import time\n",
    "import seaborn as sns\n",
    "import matplotlib.pyplot as plt\n",
    "import matplotlib.colors\n",
    "import math\n",
    "import scipy.io as sio\n",
    "from skimage import data, segmentation, color\n",
    "from skimage.future import graph\n",
    "from sklearn.preprocessing import MinMaxScaler"
   ]
  },
  {
   "cell_type": "markdown",
   "id": "7df1151b",
   "metadata": {},
   "source": [
    "### Common Funtions"
   ]
  },
  {
   "cell_type": "code",
   "execution_count": 112,
   "id": "bdc104a7",
   "metadata": {},
   "outputs": [],
   "source": [
    "#Deleting indels from VCF\n",
    "def remove_indels(t):\n",
    "    t = t[t[\"REF\"].apply(len) == 1 ]\n",
    "    t = t[t[\"ALT_1\"].apply(len) == 1]\n",
    "    return t \n",
    "\n",
    "#Normalization\n",
    "def normalization(df):\n",
    "    return MinMaxScaler().fit_transform(np.array(df['Results']).reshape(-1,1))\n",
    "\n",
    "#Apply Filter Pass if not somaticSniper\n",
    "def filterPassControl(key,df):\n",
    "    values = key.split('/')\n",
    "    return df if values[len(values)-1] == 'somaticSniper' else df[df[\"FILTER_PASS\"]]"
   ]
  },
  {
   "cell_type": "markdown",
   "id": "34edc503",
   "metadata": {},
   "source": [
    "## PART A) RESULTS FROM THE PIPELINES"
   ]
  },
  {
   "cell_type": "markdown",
   "id": "f1878aa7",
   "metadata": {},
   "source": [
    "### 1- Reading SNP vcf filenames generated as a result of the pipeline."
   ]
  },
  {
   "cell_type": "code",
   "execution_count": 113,
   "id": "27141192",
   "metadata": {},
   "outputs": [],
   "source": [
    "snp_filenames = {}\n",
    "for root, directories, filenames in os.walk('vcf/snp'):\n",
    "    for fn in filenames:\n",
    "        if fn == '.DS_Store':\n",
    "            continue;\n",
    "        else:\n",
    "            snp_filenames[root[8:]] = os.path.join(root,fn)"
   ]
  },
  {
   "cell_type": "code",
   "execution_count": 114,
   "id": "21585388",
   "metadata": {},
   "outputs": [
    {
     "data": {
      "text/plain": [
       "{'50_51/bwa/varscan': 'vcf/snp/50_51/bwa/varscan/snp_SRR7890851_bwa-SRR7890850_bwa_varscan.Somatic.vcf',\n",
       " '50_51/bwa/mutect': 'vcf/snp/50_51/bwa/mutect/snp_SRR7890851_bwa-SRR7890850_bwa_mutect.vcf',\n",
       " '50_51/bwa/octopus': 'vcf/snp/50_51/bwa/octopus/snp_SRR7890851_bwa-SRR7890850_bwa_octopus.vcf',\n",
       " '50_51/bowtie/varscan': 'vcf/snp/50_51/bowtie/varscan/snp_SRR7890851_bowtie-SRR7890850_bowtie_varscan.Somatic.vcf',\n",
       " '50_51/bowtie/mutect': 'vcf/snp/50_51/bowtie/mutect/snp_SRR7890851_bowtie-SRR7890850_bowtie_mutect.vcf',\n",
       " '50_51/bowtie/octopus': 'vcf/snp/50_51/bowtie/octopus/snp_SRR7890851_bowtie-SRR7890850_bowtie_octopus.vcf',\n",
       " '44_45/bwa/varscan': 'vcf/snp/44_45/bwa/varscan/snp_SRR7890851_bwa-SRR7890850_bwa_varscan.vcf',\n",
       " '44_45/bowtie/somaticSniper': 'vcf/snp/44_45/bowtie/somaticSniper/snp_SRR7890845_bowtie-SRR7890844_bowtie_somaticsniper.vcf',\n",
       " '44_45/bowtie/varscan': 'vcf/snp/44_45/bowtie/varscan/snp_SRR7890851_bowtie-SRR7890850_bowtie_varscan.vcf',\n",
       " '44_45/bowtie/strelka': 'vcf/snp/44_45/bowtie/strelka/snp_SRR7890845_bowtie-SRR7890844_bowtie_strelka.vcf',\n",
       " '44_45/bwa2/somaticSniper': 'vcf/snp/44_45/bwa2/somaticSniper/snp_SRR7890845_bwa2-SRR7890844_bwa2_somaticsniper.vcf',\n",
       " '44_45/bwa2/strelka': 'vcf/snp/44_45/bwa2/strelka/snp_SRR7890845_bwa2-SRR7890844_bwa2_strelka.vcf'}"
      ]
     },
     "execution_count": 114,
     "metadata": {},
     "output_type": "execute_result"
    }
   ],
   "source": [
    "snp_filenames"
   ]
  },
  {
   "cell_type": "markdown",
   "id": "a0daec4f",
   "metadata": {},
   "source": [
    "### 2- Creating a set for each dataframe with using \"CHROM\",\"POS\",\"REF\",\"ALT_1\" columns."
   ]
  },
  {
   "cell_type": "code",
   "execution_count": 115,
   "id": "f00b33b8",
   "metadata": {},
   "outputs": [
    {
     "name": "stderr",
     "output_type": "stream",
     "text": [
      "100%|███████████████████████████████████████████| 12/12 [00:08<00:00,  1.39it/s]\n"
     ]
    }
   ],
   "source": [
    "sets_dict = {}\n",
    "\n",
    "filtering_df = pd.DataFrame(columns=[\"Key\", \"Total Length\", \"After FilterPass\", \"After RemoveIndels\"])\n",
    "\n",
    "for key in tqdm(snp_filenames):\n",
    "    \n",
    "    #Creating a dataframe for each vcf.\n",
    "    temp = allel.vcf_to_dataframe(snp_filenames[key])\n",
    "    \n",
    "    #Filtering - STARTS\n",
    "    total_len = len(temp)\n",
    "    temp = filterPassControl(key,temp) #FilterPass control for somaticSniper\n",
    "    after_Filterpass_len = len(temp)\n",
    "    temp = remove_indels(temp) \n",
    "    without_indels_len = len(temp)\n",
    "    #Filtering - ENDS\n",
    "    \n",
    "    #For printing changes in the vcf lengths\n",
    "    filtering_df.loc[len(filtering_df.index)] = [key , total_len, after_Filterpass_len,without_indels_len]\n",
    "    \n",
    "    \n",
    "    #temp = temp[temp[\"CHROM\"].apply(lambda x: \"_\" in x)]\n",
    "    #Creating a dictionary for each set\n",
    "    if len(temp) != 0:\n",
    "        sets_dict[key]= set(temp[[\"CHROM\",\"POS\",\"REF\",\"ALT_1\"]].apply(lambda row: \"_\".join(map(str, row)), axis=1))"
   ]
  },
  {
   "cell_type": "code",
   "execution_count": 116,
   "id": "3433efde",
   "metadata": {},
   "outputs": [
    {
     "data": {
      "image/png": "[encoded data removed]",
      "text/plain": [
       "<Figure size 432x288 with 1 Axes>"
      ]
     },
     "metadata": {
      "needs_background": "light"
     },
     "output_type": "display_data"
    }
   ],
   "source": [
    "#Example\n",
    "#len(sets_dict)\n",
    "#len(sets_dict['50_51/bowtie/octopus'])\n",
    "ax = filtering_df.plot('Key',kind='bar',title=\"The lenghts after 'FilterPass' and 'Removing Indels'\")\n",
    "for p in ax.patches:\n",
    "    if p.get_height() == 0:\n",
    "        ax.annotate(str(p.get_height()), (p.get_x() * 1.005, p.get_height() * 1.005))"
   ]
  },
  {
   "cell_type": "markdown",
   "id": "cb83b7e2",
   "metadata": {},
   "source": [
    "## PART B) RESULTS OF THE LL VALIDATED VCFS"
   ]
  },
  {
   "cell_type": "markdown",
   "id": "d7b60943",
   "metadata": {},
   "source": [
    "### 1- Reading ll validated vcfs."
   ]
  },
  {
   "cell_type": "code",
   "execution_count": 117,
   "id": "4e969289",
   "metadata": {},
   "outputs": [],
   "source": [
    "ll_filenames = {}\n",
    "for root, directories, filenames in os.walk('vcf/ll_ea_validated_vcfs/ll_val_data'):\n",
    "    for fn in filenames:\n",
    "        if fn == '.DS_Store':\n",
    "            continue;\n",
    "        else:\n",
    "            ll_filenames[root[37:]] = os.path.join(root,fn)"
   ]
  },
  {
   "cell_type": "code",
   "execution_count": 118,
   "id": "62511112",
   "metadata": {},
   "outputs": [
    {
     "data": {
      "text/plain": [
       "{'novo/somaticSniper': 'vcf/ll_ea_validated_vcfs/ll_val_data/novo/somaticSniper/WES_LL_1.novo.somaticSniper.vcf',\n",
       " 'novo/strelka': 'vcf/ll_ea_validated_vcfs/ll_val_data/novo/strelka/WES_LL_1.novo.strelka.vcf',\n",
       " 'novo/mutect': 'vcf/ll_ea_validated_vcfs/ll_val_data/novo/mutect/WES_LL_1.novo.muTect2.vcf',\n",
       " 'bwa/somaticSniper': 'vcf/ll_ea_validated_vcfs/ll_val_data/bwa/somaticSniper/WES_LL_1.bwa.somaticSniper.vcf',\n",
       " 'bwa/strelka': 'vcf/ll_ea_validated_vcfs/ll_val_data/bwa/strelka/WES_LL_1.bwa.strelka.vcf',\n",
       " 'bwa/mutect': 'vcf/ll_ea_validated_vcfs/ll_val_data/bwa/mutect/WES_LL_1.bwa.muTect2.vcf',\n",
       " 'bowtie/somaticSniper': 'vcf/ll_ea_validated_vcfs/ll_val_data/bowtie/somaticSniper/WES_LL_1.bowtie.somaticSniper.vcf',\n",
       " 'bowtie/Strelka': 'vcf/ll_ea_validated_vcfs/ll_val_data/bowtie/Strelka/WES_LL_1.bowtie.strelka.vcf',\n",
       " 'bowtie/mutect': 'vcf/ll_ea_validated_vcfs/ll_val_data/bowtie/mutect/WES_LL_1.bowtie.muTect2.vcf'}"
      ]
     },
     "execution_count": 118,
     "metadata": {},
     "output_type": "execute_result"
    }
   ],
   "source": [
    "ll_filenames"
   ]
  },
  {
   "cell_type": "markdown",
   "id": "e5291c20",
   "metadata": {},
   "source": [
    "### 2- Creating a set for each dataframe with using \"CHROM\",\"POS\",\"REF\",\"ALT_1\" columns."
   ]
  },
  {
   "cell_type": "code",
   "execution_count": 119,
   "id": "eef6c955",
   "metadata": {},
   "outputs": [
    {
     "name": "stderr",
     "output_type": "stream",
     "text": [
      "100%|█████████████████████████████████████████████| 9/9 [00:01<00:00,  8.95it/s]\n"
     ]
    }
   ],
   "source": [
    "ll_sets_dict = {}\n",
    "\n",
    "ll_filtering_df = pd.DataFrame(columns=[\"Key\", \"Total Length\", \"After FilterPass\", \"After RemoveIndels\"])\n",
    "\n",
    "for key in tqdm(ll_filenames):\n",
    "    #Creating a dataframe for each vcf.\n",
    "    temp = allel.vcf_to_dataframe(ll_filenames[key])\n",
    "    \n",
    "    \n",
    "    #Filtering - STARTS\n",
    "    total_length = len(temp)\n",
    "    temp = filterPassControl(key,temp) #FilterPass control for somaticSniper\n",
    "    after_filterpass = len(temp)\n",
    "    temp = remove_indels(temp)\n",
    "    after_remove_indels = len(temp)\n",
    "    #Filtering - ENDS\n",
    "\n",
    "    #For printing changes in the vcf lengths\n",
    "    ll_filtering_df.loc[len(ll_filtering_df.index)] = [key , total_length, after_filterpass,after_remove_indels]\n",
    "\n",
    "    #Creating a set for each dataframe\n",
    "    if len(temp) != 0 :\n",
    "        ll_sets_dict[key]= set(temp[[\"CHROM\",\"POS\",\"REF\",\"ALT_1\"]].apply(lambda row: \"_\".join(map(str, row)), axis=1))"
   ]
  },
  {
   "cell_type": "code",
   "execution_count": 120,
   "id": "f016b92c",
   "metadata": {},
   "outputs": [
    {
     "data": {
      "image/png": "[encoded data removed]",
      "text/plain": [
       "<Figure size 432x288 with 1 Axes>"
      ]
     },
     "metadata": {
      "needs_background": "light"
     },
     "output_type": "display_data"
    }
   ],
   "source": [
    "ax = ll_filtering_df.plot('Key',kind='bar',title=\"The ll lenghts after 'FilterPass' and 'Removing Indels'\")\n",
    "for p in ax.patches:\n",
    "    if p.get_height() == 0:\n",
    "        ax.annotate(str(p.get_height()), (p.get_x() * 1.005, p.get_height() * 1.005))"
   ]
  },
  {
   "cell_type": "markdown",
   "id": "1c9b7d0f",
   "metadata": {},
   "source": [
    "## PART C) SET OPERATIONS"
   ]
  },
  {
   "cell_type": "markdown",
   "id": "e4ca8698",
   "metadata": {},
   "source": [
    "\n",
    "### 1- Creating a set operations funtions."
   ]
  },
  {
   "cell_type": "code",
   "execution_count": 121,
   "id": "1e5419e2",
   "metadata": {},
   "outputs": [],
   "source": [
    "#The intersection of two sets is the set of all the common elements of both the sets. \n",
    "def intersec(s1,s2):\n",
    "    return len(s1.intersection(s2))\n",
    "\n",
    "#The union of two sets is the set of all the elements of both the sets without duplicates.\n",
    "def uni(s1,s2):\n",
    "    return len(s1.union(s2))\n",
    "\n",
    "#The difference between two sets is the set of all the elements in first set that are not present in the second set. \n",
    "def dif(s1,s2):\n",
    "    return len(s1.difference(s2))\n",
    "\n",
    "#Jaccard Similarity function for two sets\n",
    "def js_set(s1, s2):\n",
    "    intersection = len(list(set(s1).intersection(s2)))\n",
    "    union = uni(s1,s2)\n",
    "    return np.float64(round((float(intersection) / union) * 100) / 100);"
   ]
  },
  {
   "cell_type": "markdown",
   "id": "3592a88e",
   "metadata": {},
   "source": [
    "### 2- Creating a intersection array from each sets. "
   ]
  },
  {
   "cell_type": "code",
   "execution_count": 122,
   "id": "5ca81a9b",
   "metadata": {},
   "outputs": [
    {
     "data": {
      "text/html": [
       "<div>\n",
       "<style scoped>\n",
       "    .dataframe tbody tr th:only-of-type {\n",
       "        vertical-align: middle;\n",
       "    }\n",
       "\n",
       "    .dataframe tbody tr th {\n",
       "        vertical-align: top;\n",
       "    }\n",
       "\n",
       "    .dataframe thead th {\n",
       "        text-align: right;\n",
       "    }\n",
       "</style>\n",
       "<table border=\"1\" class=\"dataframe\">\n",
       "  <thead>\n",
       "    <tr style=\"text-align: right;\">\n",
       "      <th></th>\n",
       "      <th>LL_VCF</th>\n",
       "      <th>Result_VCF</th>\n",
       "      <th>Results</th>\n",
       "    </tr>\n",
       "  </thead>\n",
       "  <tbody>\n",
       "    <tr>\n",
       "      <th>0</th>\n",
       "      <td>novo/somaticSniper</td>\n",
       "      <td>50_51/bwa/varscan</td>\n",
       "      <td>0.37</td>\n",
       "    </tr>\n",
       "    <tr>\n",
       "      <th>1</th>\n",
       "      <td>novo/somaticSniper</td>\n",
       "      <td>50_51/bwa/octopus</td>\n",
       "      <td>0.01</td>\n",
       "    </tr>\n",
       "    <tr>\n",
       "      <th>2</th>\n",
       "      <td>novo/somaticSniper</td>\n",
       "      <td>50_51/bowtie/varscan</td>\n",
       "      <td>0.27</td>\n",
       "    </tr>\n",
       "    <tr>\n",
       "      <th>3</th>\n",
       "      <td>novo/somaticSniper</td>\n",
       "      <td>50_51/bowtie/octopus</td>\n",
       "      <td>0.01</td>\n",
       "    </tr>\n",
       "    <tr>\n",
       "      <th>4</th>\n",
       "      <td>novo/somaticSniper</td>\n",
       "      <td>44_45/bwa/varscan</td>\n",
       "      <td>0.02</td>\n",
       "    </tr>\n",
       "    <tr>\n",
       "      <th>...</th>\n",
       "      <td>...</td>\n",
       "      <td>...</td>\n",
       "      <td>...</td>\n",
       "    </tr>\n",
       "    <tr>\n",
       "      <th>85</th>\n",
       "      <td>bowtie/mutect</td>\n",
       "      <td>44_45/bowtie/somaticSniper</td>\n",
       "      <td>0.01</td>\n",
       "    </tr>\n",
       "    <tr>\n",
       "      <th>86</th>\n",
       "      <td>bowtie/mutect</td>\n",
       "      <td>44_45/bowtie/varscan</td>\n",
       "      <td>0.01</td>\n",
       "    </tr>\n",
       "    <tr>\n",
       "      <th>87</th>\n",
       "      <td>bowtie/mutect</td>\n",
       "      <td>44_45/bowtie/strelka</td>\n",
       "      <td>0.25</td>\n",
       "    </tr>\n",
       "    <tr>\n",
       "      <th>88</th>\n",
       "      <td>bowtie/mutect</td>\n",
       "      <td>44_45/bwa2/somaticSniper</td>\n",
       "      <td>0.01</td>\n",
       "    </tr>\n",
       "    <tr>\n",
       "      <th>89</th>\n",
       "      <td>bowtie/mutect</td>\n",
       "      <td>44_45/bwa2/strelka</td>\n",
       "      <td>0.25</td>\n",
       "    </tr>\n",
       "  </tbody>\n",
       "</table>\n",
       "<p>90 rows × 3 columns</p>\n",
       "</div>"
      ],
      "text/plain": [
       "                LL_VCF                  Result_VCF Results\n",
       "0   novo/somaticSniper           50_51/bwa/varscan    0.37\n",
       "1   novo/somaticSniper           50_51/bwa/octopus    0.01\n",
       "2   novo/somaticSniper        50_51/bowtie/varscan    0.27\n",
       "3   novo/somaticSniper        50_51/bowtie/octopus    0.01\n",
       "4   novo/somaticSniper           44_45/bwa/varscan    0.02\n",
       "..                 ...                         ...     ...\n",
       "85       bowtie/mutect  44_45/bowtie/somaticSniper    0.01\n",
       "86       bowtie/mutect        44_45/bowtie/varscan    0.01\n",
       "87       bowtie/mutect        44_45/bowtie/strelka    0.25\n",
       "88       bowtie/mutect    44_45/bwa2/somaticSniper    0.01\n",
       "89       bowtie/mutect          44_45/bwa2/strelka    0.25\n",
       "\n",
       "[90 rows x 3 columns]"
      ]
     },
     "execution_count": 122,
     "metadata": {},
     "output_type": "execute_result"
    }
   ],
   "source": [
    "#Initializing a dataframe\n",
    "df = pd.DataFrame(columns=[\"LL_VCF\", \"Result_VCF\", \"Results\"])\n",
    "\n",
    "#Initializing a count for the rows\n",
    "count = 0\n",
    "\n",
    "#Computing each intersection of ll and the pipeline vcfs by looking at their key values. \n",
    "for key1 in ll_sets_dict: \n",
    "    for key2 in sets_dict:\n",
    "        df[count] = [key1, key2, js_set(ll_sets_dict[key1],sets_dict[key2])]\n",
    "        count += 1\n",
    "    \n",
    "#Taking transpose of the df and, getting rid of the first three rows then renaming axis again.\n",
    "#Consider chaging this part.\n",
    "df_t = df.transpose().iloc[3: , :].set_axis(['LL_VCF', 'Result_VCF', 'Results'], axis=1, inplace=False)\n",
    "\n",
    "#Normalizing the results values with MinMaxScaler [0,1]\n",
    "#df_t['Results'] = MinMaxScaler().fit_transform(np.array(df_t['Results']).reshape(-1,1))\n",
    "\n",
    "#np.float64(df['Results'])\n",
    "df_t"
   ]
  },
  {
   "cell_type": "markdown",
   "id": "a5e4abb3",
   "metadata": {},
   "source": [
    "### 3- Show Intersection Results in heatmap"
   ]
  },
  {
   "cell_type": "code",
   "execution_count": 123,
   "id": "3ef14da9",
   "metadata": {},
   "outputs": [
    {
     "data": {
      "image/png": "[encoded data removed]",
      "text/plain": [
       "<Figure size 432x288 with 2 Axes>"
      ]
     },
     "metadata": {
      "needs_background": "light"
     },
     "output_type": "display_data"
    }
   ],
   "source": [
    "df_h = df_t.pivot(\"Result_VCF\", \"LL_VCF\", \"Results\").fillna(0).apply(pd.to_numeric)\n",
    "ax = sns.heatmap(df_h, annot=True,cmap=\"YlGnBu\")"
   ]
  },
  {
   "cell_type": "markdown",
   "id": "296e617d",
   "metadata": {},
   "source": [
    "### PART D) COMPARISON WITH UNION VALIDATED VCF'S"
   ]
  },
  {
   "cell_type": "markdown",
   "id": "2199ba51",
   "metadata": {},
   "source": [
    "#### 1- Create a union of all ll validated vfc sets"
   ]
  },
  {
   "cell_type": "code",
   "execution_count": 124,
   "id": "6fedf593",
   "metadata": {},
   "outputs": [
    {
     "data": {
      "text/plain": [
       "5698"
      ]
     },
     "execution_count": 124,
     "metadata": {},
     "output_type": "execute_result"
    }
   ],
   "source": [
    "#Creating union list from all ll validated vcf files\n",
    "union_ll_vcf = set().union(*ll_sets_dict.values())\n",
    "\n",
    "len(union_ll_vcf)\n",
    "#union_ll_vcf"
   ]
  },
  {
   "cell_type": "code",
   "execution_count": 125,
   "id": "498982f5",
   "metadata": {},
   "outputs": [
    {
     "data": {
      "text/html": [
       "<div>\n",
       "<style scoped>\n",
       "    .dataframe tbody tr th:only-of-type {\n",
       "        vertical-align: middle;\n",
       "    }\n",
       "\n",
       "    .dataframe tbody tr th {\n",
       "        vertical-align: top;\n",
       "    }\n",
       "\n",
       "    .dataframe thead th {\n",
       "        text-align: right;\n",
       "    }\n",
       "</style>\n",
       "<table border=\"1\" class=\"dataframe\">\n",
       "  <thead>\n",
       "    <tr style=\"text-align: right;\">\n",
       "      <th></th>\n",
       "      <th>LL_VCF</th>\n",
       "      <th>Result_VCF</th>\n",
       "      <th>Results</th>\n",
       "      <th>length</th>\n",
       "    </tr>\n",
       "  </thead>\n",
       "  <tbody>\n",
       "    <tr>\n",
       "      <th>0</th>\n",
       "      <td>Union</td>\n",
       "      <td>50_51/bwa/varscan</td>\n",
       "      <td>0.28</td>\n",
       "      <td>3792</td>\n",
       "    </tr>\n",
       "    <tr>\n",
       "      <th>1</th>\n",
       "      <td>Union</td>\n",
       "      <td>50_51/bwa/octopus</td>\n",
       "      <td>0.02</td>\n",
       "      <td>101119</td>\n",
       "    </tr>\n",
       "    <tr>\n",
       "      <th>2</th>\n",
       "      <td>Union</td>\n",
       "      <td>50_51/bowtie/varscan</td>\n",
       "      <td>0.23</td>\n",
       "      <td>5862</td>\n",
       "    </tr>\n",
       "    <tr>\n",
       "      <th>3</th>\n",
       "      <td>Union</td>\n",
       "      <td>50_51/bowtie/octopus</td>\n",
       "      <td>0.02</td>\n",
       "      <td>93119</td>\n",
       "    </tr>\n",
       "    <tr>\n",
       "      <th>4</th>\n",
       "      <td>Union</td>\n",
       "      <td>44_45/bwa/varscan</td>\n",
       "      <td>0.03</td>\n",
       "      <td>87726</td>\n",
       "    </tr>\n",
       "    <tr>\n",
       "      <th>5</th>\n",
       "      <td>Union</td>\n",
       "      <td>44_45/bowtie/somaticSniper</td>\n",
       "      <td>0.01</td>\n",
       "      <td>151349</td>\n",
       "    </tr>\n",
       "    <tr>\n",
       "      <th>6</th>\n",
       "      <td>Union</td>\n",
       "      <td>44_45/bowtie/varscan</td>\n",
       "      <td>0.03</td>\n",
       "      <td>100459</td>\n",
       "    </tr>\n",
       "    <tr>\n",
       "      <th>7</th>\n",
       "      <td>Union</td>\n",
       "      <td>44_45/bowtie/strelka</td>\n",
       "      <td>0.26</td>\n",
       "      <td>5467</td>\n",
       "    </tr>\n",
       "    <tr>\n",
       "      <th>8</th>\n",
       "      <td>Union</td>\n",
       "      <td>44_45/bwa2/somaticSniper</td>\n",
       "      <td>0.01</td>\n",
       "      <td>179046</td>\n",
       "    </tr>\n",
       "    <tr>\n",
       "      <th>9</th>\n",
       "      <td>Union</td>\n",
       "      <td>44_45/bwa2/strelka</td>\n",
       "      <td>0.26</td>\n",
       "      <td>5467</td>\n",
       "    </tr>\n",
       "  </tbody>\n",
       "</table>\n",
       "</div>"
      ],
      "text/plain": [
       "  LL_VCF                  Result_VCF Results  length\n",
       "0  Union           50_51/bwa/varscan    0.28    3792\n",
       "1  Union           50_51/bwa/octopus    0.02  101119\n",
       "2  Union        50_51/bowtie/varscan    0.23    5862\n",
       "3  Union        50_51/bowtie/octopus    0.02   93119\n",
       "4  Union           44_45/bwa/varscan    0.03   87726\n",
       "5  Union  44_45/bowtie/somaticSniper    0.01  151349\n",
       "6  Union        44_45/bowtie/varscan    0.03  100459\n",
       "7  Union        44_45/bowtie/strelka    0.26    5467\n",
       "8  Union    44_45/bwa2/somaticSniper    0.01  179046\n",
       "9  Union          44_45/bwa2/strelka    0.26    5467"
      ]
     },
     "execution_count": 125,
     "metadata": {},
     "output_type": "execute_result"
    }
   ],
   "source": [
    "#Initializing a dataframe\n",
    "df_union = pd.DataFrame(columns=[\"LL_VCF\", \"Result_VCF\", \"Results\", 'length'])\n",
    "\n",
    "#Initializing a count for the rows\n",
    "count = 0\n",
    "\n",
    "#Computing each intersection of ll and the pipeline vcfs by looking at their key values. \n",
    "for key1 in sets_dict:\n",
    "    df_union[count] = ['Union', key1, js_set(union_ll_vcf,sets_dict[key1]),len(sets_dict[key1]) ]\n",
    "    count += 1\n",
    "\n",
    "#Taking transpose of the df and, getting rid of the first three rows then renaming axis again.\n",
    "df_union_t = df_union.transpose().iloc[4: , :].set_axis(['LL_VCF', 'Result_VCF', 'Results', 'length'], axis=1, inplace=False)\n",
    "\n",
    "df_union_t"
   ]
  },
  {
   "cell_type": "code",
   "execution_count": 126,
   "id": "9a3fb4ba",
   "metadata": {},
   "outputs": [
    {
     "data": {
      "image/png": "[encoded data removed]",
      "text/plain": [
       "<Figure size 432x288 with 2 Axes>"
      ]
     },
     "metadata": {
      "needs_background": "light"
     },
     "output_type": "display_data"
    }
   ],
   "source": [
    "df_union_h = df_union_t.pivot(\"Result_VCF\", \"LL_VCF\", \"Results\").fillna(0).apply(pd.to_numeric)\n",
    "ax = sns.heatmap(df_union_h, annot=True,cmap=\"YlGnBu\")"
   ]
  },
  {
   "cell_type": "code",
   "execution_count": null,
   "id": "5c98beb9",
   "metadata": {},
   "outputs": [],
   "source": []
  },
  {
   "cell_type": "code",
   "execution_count": null,
   "id": "0a4fc7e7",
   "metadata": {},
   "outputs": [],
   "source": []
  },
  {
   "cell_type": "code",
   "execution_count": null,
   "id": "30f50181",
   "metadata": {},
   "outputs": [],
   "source": []
  },
  {
   "cell_type": "code",
   "execution_count": null,
   "id": "4cdbf093",
   "metadata": {},
   "outputs": [],
   "source": []
  },
  {
   "cell_type": "code",
   "execution_count": null,
   "id": "da92fc3f",
   "metadata": {
    "collapsed": true
   },
   "outputs": [],
   "source": []
  },
  {
   "cell_type": "code",
   "execution_count": null,
   "id": "265581ed",
   "metadata": {
    "collapsed": true
   },
   "outputs": [],
   "source": []
  },
  {
   "cell_type": "markdown",
   "id": "1117eebb",
   "metadata": {},
   "source": [
    "Gül Eda Aydemir"
   ]
  },
  {
   "cell_type": "code",
   "execution_count": null,
   "id": "63762d66",
   "metadata": {},
   "outputs": [],
   "source": []
  }
 ],
 "metadata": {
  "kernelspec": {
   "display_name": "Python 3 (ipykernel)",
   "language": "python",
   "name": "python3"
  },
  "language_info": {
   "codemirror_mode": {
    "name": "ipython",
    "version": 3
   },
   "file_extension": ".py",
   "mimetype": "text/x-python",
   "name": "python",
   "nbconvert_exporter": "python",
   "pygments_lexer": "ipython3",
   "version": "3.9.7"
  }
 },
 "nbformat": 4,
 "nbformat_minor": 5
}
